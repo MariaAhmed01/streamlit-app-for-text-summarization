{
 "cells": [
  {
   "cell_type": "code",
   "execution_count": 2,
   "metadata": {},
   "outputs": [],
   "source": [
    "#internship task"
   ]
  },
  {
   "cell_type": "code",
   "execution_count": 2,
   "metadata": {},
   "outputs": [
    {
     "name": "stdout",
     "output_type": "stream",
     "text": [
      "Article:\n",
      "an exponential rise in alzheimer 's disease ( ad ) prevalence rates is predicted to parallel the aging of baby boomers creating a potentially unsustainable economic burden to the healthcare system .   delaying the onset or progression of ad , even modestly , by earlier pharmacological intervention could substantially reduce the economic and psychosocial impact of the illness [ 1 , 2 ] .   unfortunately \n",
      " , many ad patients remain undiagnosed or go undetected until the later stages of disease . \n",
      " insights into the underlying pathological mechanisms involving beta - amyloid plaque deposition within the brain have   led to the development of a host of antiamyloid agents   that are in various stages of clinical investigation . \n",
      " there is now a scientific consensus that the pathological events in ad initiate decades before clinical symptoms become apparent , and if disease modification is realized in the coming decades , the need for improved methods of early detection prior to the overt clinical signs will be accentuated .   traditionally , neuropsychological measures , particularly those that tap cognitive abilities subsumed by the hippocampal formation such as episodic memory , have shown usefulness in identifying cognitively normal elders who subsequently develop ad [ 4 , 5 ] . \n",
      " decrements in semantic memory and concept formation have been shown to occur nearly a decade before the development of ad . \n",
      " performance on visual - spatial and verbal memory measures in midlife have also been shown to predict later memory loss . \n",
      " however , individuals with very high premorbid intellectual abilities experiencing incipient cognitive decline may go undetected , and false positives are possible in individuals with a low level of intellectual abilities . also appropriate \n",
      " interpretation of extensive neuropsychological testing requires a high degree of expertise and training , which limits its use in routine clinical settings .   the advancement of molecular imaging tracers that bind to amyloid , such as pittsburgh compound b ( pib ) or longer - lived probes ( e.g. , fddnp ) , offers a non - invasive in vivo method to detect and quantify brain amyloid deposition [ 8 , 9 ] .   however , this approach for presymptomatic detection is economically impractical for routine use given the current costs and restrictions on  medically necessary  use . \n",
      " similarly , biomarkers including a142 and phosphorylated tau ( also implicated in ad pathology ) in cerebral spinal fluid ( csf ) can predict subsequent cognitive decline [ 10 , 11 ] , but lumbar puncture carries risks and is inconvenient for wide - scale use in cognitively impaired elderly subjects . \n",
      " blood - based biomarkers have more practical applicability for routine use and are likely to be more cost effective than both csf and imaging procedures .   consequently , measurement of a140 and a142 in blood is increasingly being explored and shows potential in identifying individuals at the preclinical stage of ad [ 1214 ] . \n",
      " it has been reported that csf a levels are subject to high diurnal fluctuations with extremely high variability reported over 12 hours .   over days and weeks , \n",
      " furthermore , serum contains more a than plasma , possibly due to the release of bound a during the clotting process . \n",
      " hence , serum a appears suitable for use in predicting mci / ad and optimal sensitivity , and specificity is probably achievable if combined with current diagnostic procedures , such as brief neuropsychological testing .    in this study \n",
      " , we examined the usefulness of brief neuropsychological tests in combination with blood a140 and a142 as a predictive test for detecting mci / ad in at - risk older adults at a pre - symptomatic stage . \n",
      " such an approach will be more practical for clinical use and be germane in designing large - scale prevention trials . \n",
      " participants included a subset of subjects enrolled in the alzheimer 's disease anti - inflammatory prevention trial ( adapt ) . \n",
      " adapt was a randomized , placebo - controlled , multicenter primary prevention trial sponsored by the national institute on aging . \n",
      " subjects were randomly assigned to one of three groups : celecoxib ( 200  mg b.i.d . ) , naproxen sodium ( 220  mg b.i.d . ) , or placebo . \n",
      " full details of data collection , measurements , and study procedures are available at http://www.jhucct.com/adapt/manall43.pdf and described elsewhere . the inclusion criteria for adapt subjects were age of 70 or older at enrollment , a self - reported family history of ad - like dementia , and normal cognitive performance on a brief battery of neuropsychological tests . \n",
      " recruitment for adapt began in 2002 , and the study was completed in 2007 . \n",
      " in 2005 , the roskamp institute initiated a proteomic ancillary study ( f. crawford , pi ) involving blood draw from these subjects . \n",
      " the inclusion criteria for this ancillary study stipulated that each subject was an active adapt participant and had met all the adapt inclusion and exclusion criteria . \n",
      " a separate consent was also obtained from each subject who participated in the ancillary study . \n",
      " two hundred and fifteen subjects from the roskamp adapt cohort enrolled in the proteomic ancillary study .   at the time of blood draw \n",
      " , subjects maintained cognitively normal status as determined by their performance on an annual cognitive assessment battery . \n",
      " blood was collected during the semi - annual followup visits , and the cognitive assessments were performed at the baseline visit and at the annual visits . \n",
      " the time from baseline cognitive testing to the diagnosis of mci / ad was 4.06 years ( 1.3 sd ) . \n",
      " timeframe from baseline cognitive testing to blood draw was 2.25 years ( 0.71  sd ) and from blood draw to diagnosis was 1.79 years ( 1.2 sd ) . \n",
      " the cognitive measures completed at baseline and annual followup included the modified mini - mental state examination ( 3ms ) ; the hopkins verbal learning test - revised ( hvlt - r ) ; digit span ( forward and backward ) from the wechsler adult intelligence scale - revised ( wais - r ) ; a generative verbal fluency test ( supermarket items ) ; the narratives from the rivermead behavioral memory test ( rbmt ) ; the brief visuospatial memory test - revised ( bvmt - r ) . \n",
      " the mini - mental state examination ( mmse )   was extracted from 3ms . \n",
      " alternate forms were utilized annually for the hvlt - r , rbmt , and bvmt - r on each subsequent annual visit . \n",
      " subjects also completed the 30-item geriatric depression scale   and a self - rating scale of memory functions . \n",
      " collateral respondents completed the dementia severity rating scale ( dsrs ) .   due to significant intercorrelations between these tests , analyses described below \n",
      " are limited to those baseline cognitive tests that were sensitive to early changes ( i.e. , verbal learning and memory ) associated with mci / ad   or tests that were similar to those previously shown to be associated with a levels .   normative data from the cache county study was used to develop the standardized cut - off scores utilized in adapt . \n",
      " individuals who scored below the cut scores on annual cognitive assessments underwent further dementia workup including physical and neurological examinations , laboratory studies ( i.e. , cbc , chemistry count , sedimentation rate , vitamin b12 and folic acid levels , thyroid test , and syphilis serological test ) , and neuroimaging ( i.e. , mri or ct ) , as applicable . \n",
      " a more comprehensive neuropsychological assessment was also administered by a neuropsychologist as part of the dementia work - up . \n",
      " this battery of tests consisted of the expanded consortium to establish a registry for alzheimer 's disease ( cerad ) battery ; logical memory i and ii of the wechsler memory scale - revised ; benton visual retention test   ( benton ) ; a generative fluency test ( animals ) ; control oral word association test ( cowat ; cfl ) ; the trail making test ; symbol digit modalities test ( smdt ) ; shipley vocabulary . \n",
      " following completion of all components of the dementia work - up , a consensus team determined cognitive status using published diagnostic criteria . \n",
      " the diagnosis of ad was made using nincds - adrda   and amnestic mild cognitive impairment ( mci ) using petersen criteria . \n",
      " all mci patients were considered to be amnestic mci , as they only had memory impairment , but maintained normal activities of daily living and overall had a well - preserved cognition in other cognitive domains . \n",
      " ample evidence indicates that amnestic mci patients may be in a transitional stage between normal aging and ad with 85% of these subjects converting to ad over a 7-year period . \n",
      " additional evidence comes from an imaging study which demonstrated that the pattern of brain atrophy in amnestic mci patients is typical of that observed in ad patients . \n",
      " it is then reasonable to combine these diagnoses in a single category , thus allowing a large enough numbers to supply statistical power . of the 215 subjects who gave blood for the ancillary study , two developed non - ad dementia , and \n",
      " of the remaining subject pool of 208 used in these analyses , 28 subjects met criteria for either ad ( n = 10 ) or mci ( n = 18 ) in the two years following blood draw . \n",
      " the serum a content was determined , as per manufacturer 's instructions , using the elisa kits for human a140 and a142 and the inter - assay cv , and the intraassay cv was reported to be 10% ( invitrogen , calif ) . \n",
      " dna was extracted from whole blood for apoe genotyping using pure gene kits ( gentra systems , calif ) , and apoe genotyping was performed using previously established methods , as described elsewhere . \n",
      " apoe genotypes were unavailable for 4 individuals , but these were included in the analyses . \n",
      " the data set was range checked , and prior to analyses , the dependent and independent variables were examined for missing data , outliers , and violations of the normalcy assumption . ... (truncated)\n",
      "\n",
      "Abstract:\n",
      "we examined the usefulness of brief neuropsychological tests and serum a as a predictive test for detecting mci / ad in older adults . \n",
      " serum a levels were measured from 208 subjects who were cognitively normal at enrollment and blood draw . \n",
      " twenty - eight of the subjects subsequently developed mci ( n = 18 ) or ad ( n = 10 ) over the follow - up period . \n",
      " baseline measures of global cognition , memory , language fluency , and serum a142 and the ratio of serum a142/a140 were significant predictors for future mci / ad using cox regression with demographic variables , apoe 4 , vascular risk factors , and specific medication as covariates . an optimal sensitivity of 85.2% and specificity of 86.5% for predicting mci / ad was achieved using roc analyses . \n",
      " brief neuropsychological tests and measurements of a142 obtained via blood warrants further study as a practical and cost effective method for wide - scale screening for identifying older adults who may be at - risk for pathological ... (truncated)\n"
     ]
    }
   ],
   "source": [
    "from datasets import load_dataset\n",
    "\n",
    "# Load the entire dataset\n",
    "dataset = load_dataset(\"ccdv/pubmed-summarization\")\n",
    "\n",
    "split_name = \"train\"  \n",
    "sample_index = 10 \n",
    "\n",
    "sample = dataset[split_name][sample_index]\n",
    "\n",
    "print(\"Article:\")\n",
    "print(sample[\"article\"][:10000] + \"... (truncated)\")  \n",
    "\n",
    "print(\"\\nAbstract:\")\n",
    "print(sample[\"abstract\"][:1000] + \"... (truncated)\")\n"
   ]
  },
  {
   "cell_type": "code",
   "execution_count": null,
   "metadata": {},
   "outputs": [],
   "source": []
  }
 ],
 "metadata": {
  "kernelspec": {
   "display_name": "base",
   "language": "python",
   "name": "python3"
  },
  "language_info": {
   "codemirror_mode": {
    "name": "ipython",
    "version": 3
   },
   "file_extension": ".py",
   "mimetype": "text/x-python",
   "name": "python",
   "nbconvert_exporter": "python",
   "pygments_lexer": "ipython3",
   "version": "3.11.4"
  },
  "orig_nbformat": 4
 },
 "nbformat": 4,
 "nbformat_minor": 2
}
